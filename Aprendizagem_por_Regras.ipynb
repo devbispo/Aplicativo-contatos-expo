{
  "nbformat": 4,
  "nbformat_minor": 0,
  "metadata": {
    "colab": {
      "name": "Aprendizagem-por-Regras",
      "provenance": [],
      "authorship_tag": "ABX9TyMi7NkzBpAP9QiBTWeM2/0t",
      "include_colab_link": true
    },
    "kernelspec": {
      "name": "python3",
      "display_name": "Python 3"
    },
    "language_info": {
      "name": "python"
    }
  },
  "cells": [
    {
      "cell_type": "markdown",
      "metadata": {
        "id": "view-in-github",
        "colab_type": "text"
      },
      "source": [
        "<a href=\"https://colab.research.google.com/github/devbispo/Aplicativo-contatos-expo/blob/main/Aprendizagem_por_Regras.ipynb\" target=\"_parent\"><img src=\"https://colab.research.google.com/assets/colab-badge.svg\" alt=\"Open In Colab\"/></a>"
      ]
    },
    {
      "cell_type": "code",
      "execution_count": null,
      "metadata": {
        "id": "h-08M9IzEK6u"
      },
      "outputs": [],
      "source": [
        "pip install orange3"
      ]
    },
    {
      "cell_type": "code",
      "source": [
        "'''É uma boa ideia tentar reduzir a dimensão dos dados de treinamento\n",
        "com a utilização de um algoritmo de redução de dimensionalidade antes\n",
        "de fornecê-lo a outro algoritmo do Aprendizado de Máquina (como um\n",
        "\n",
        "algoritmo de aprendizado supervisionado). Este algoritmo será executa-\n",
        "do muito mais rapidamente, os dados ocuparão menos espaço em disco\n",
        "\n",
        "e na memória e, em alguns casos, podem rodar melhor também.'''"
      ],
      "metadata": {
        "id": "VC6HSuYDLV8F"
      },
      "execution_count": null,
      "outputs": []
    },
    {
      "cell_type": "code",
      "source": [
        "import Orange \n",
        "import numpy as np #Inducao de regras com Orange\n",
        "np.set_printoptions(threshold=np.inf)\n",
        "base = Orange.data.Table(\"risco_credito_regras.csv\")\n",
        "print(base)"
      ],
      "metadata": {
        "colab": {
          "base_uri": "https://localhost:8080/"
        },
        "id": "ZknSTZQjMIN5",
        "outputId": "fa2e7a6c-eef0-46a5-9d71-dcdccc65c5f2"
      },
      "execution_count": 6,
      "outputs": [
        {
          "output_type": "stream",
          "name": "stdout",
          "text": [
            "[[ruim, alta, nenhuma, 0_15 | alto],\n",
            " [desconhecida, alta, nenhuma, 15_35 | alto],\n",
            " [desconhecida, baixa, nenhuma, 15_35 | moderado],\n",
            " [desconhecida, baixa, nenhuma, acima_35 | alto],\n",
            " [desconhecida, baixa, nenhuma, acima_35 | baixo],\n",
            " [desconhecida, baixa, adequada, acima_35 | baixo],\n",
            " [ruim, baixa, nenhuma, 0_15 | alto],\n",
            " [ruim, baixa, adequada, acima_35 | moderado],\n",
            " [boa, baixa, nenhuma, acima_35 | baixo],\n",
            " [boa, alta, adequada, acima_35 | baixo],\n",
            " [boa, alta, nenhuma, 0_15 | alto],\n",
            " [boa, alta, nenhuma, 15_35 | moderado],\n",
            " [boa, alta, nenhuma, acima_35 | baixo],\n",
            " [ruim, alta, nenhuma, 15_35 | alto]]\n"
          ]
        }
      ]
    },
    {
      "cell_type": "code",
      "source": [
        "import Orange \n",
        "import numpy as np\n",
        "np.set_printoptions(threshold=np.inf)\n",
        "base = Orange.data.Table(\"risco_credito_regras.csv\")\n",
        "cn2_learner = Orange.classification.rules.CN2Learner()\n",
        "classificador = cn2_learner(base)\n",
        "#Visualizar as regras criadas\n",
        "for regras in classificador.rule_list:\n",
        "  print(regras)"
      ],
      "metadata": {
        "colab": {
          "base_uri": "https://localhost:8080/"
        },
        "id": "xQ6bVBWmO9Ep",
        "outputId": "9dec5233-31e8-488b-a88e-9bd779771c2b"
      },
      "execution_count": 7,
      "outputs": [
        {
          "output_type": "stream",
          "name": "stdout",
          "text": [
            "IF renda==0_15 THEN risco=alto \n",
            "IF historia==boa AND divida!=alta THEN risco=baixo \n",
            "IF historia==boa AND garantias!=nenhuma THEN risco=baixo \n",
            "IF historia==boa AND renda!=15_35 THEN risco=baixo \n",
            "IF historia==boa THEN risco=moderado \n",
            "IF divida==alta THEN risco=alto \n",
            "IF historia!=desconhecida THEN risco=moderado \n",
            "IF garantias==adequada THEN risco=baixo \n",
            "IF renda==15_35 THEN risco=moderado \n",
            "IF historia==desconhecida THEN risco=baixo \n",
            "IF TRUE THEN risco=alto \n"
          ]
        }
      ]
    },
    {
      "cell_type": "code",
      "source": [
        "import Orange \n",
        "import numpy as np\n",
        "np.set_printoptions(threshold=np.inf)\n",
        "base = Orange.data.Table(\"risco_credito_regras.csv\")\n",
        "cn2_learner = Orange.classification.rules.CN2Learner()\n",
        "classificador = cn2_learner(base)\n",
        "#Historia boa, Divida Alta, garantias Nenhuma, renda>35\n",
        "#Historia Ruim, Divida Alta, garantias adequada, renda< 15\n",
        "resultado = classificador([['boa', 'alta', 'nenhuma', 'acima_35'],['ruim', 'alta', 'adequada', '0_15']])\n",
        "for i in resultado:\n",
        "  print('Resultado: ', base.domain.class_var.values[i])"
      ],
      "metadata": {
        "colab": {
          "base_uri": "https://localhost:8080/"
        },
        "id": "qFaphlZFQGyq",
        "outputId": "1b10d1ed-dd0b-41df-975b-e7c686b08c18"
      },
      "execution_count": 8,
      "outputs": [
        {
          "output_type": "stream",
          "name": "stdout",
          "text": [
            "Resultado:  baixo\n",
            "Resultado:  alto\n"
          ]
        }
      ]
    },
    {
      "cell_type": "code",
      "source": [
        "import Orange \n",
        "import numpy as np\n",
        "np.set_printoptions(threshold=np.inf)\n",
        "base = Orange.data.Table('credit_data_regras.csv')\n",
        "print(base.domain)"
      ],
      "metadata": {
        "colab": {
          "base_uri": "https://localhost:8080/"
        },
        "id": "P9eWXS4XR1io",
        "outputId": "5b3870d3-930c-40e4-a603-d44d846b417a"
      },
      "execution_count": 9,
      "outputs": [
        {
          "output_type": "stream",
          "name": "stdout",
          "text": [
            "[income, age, loan | default]\n"
          ]
        }
      ]
    },
    {
      "cell_type": "code",
      "source": [
        "import Orange \n",
        "import numpy as np\n",
        "np.set_printoptions(threshold=np.inf)\n",
        "base = Orange.data.Table('credit_data_regras.csv')\n",
        "base_dividida = Orange.evaluation.testing.sample(base, n=0.25)\n",
        "base_treinamento = base_dividida[1]\n",
        "base_teste = base_dividida[0]\n",
        "classificador = cn2_learner(base_treinamento)\n",
        "#Vizualisar as regras criadas\n",
        "for regras in classificador.rule_list:\n",
        "  print(regras)"
      ],
      "metadata": {
        "colab": {
          "base_uri": "https://localhost:8080/"
        },
        "id": "7av9iqPLT2RD",
        "outputId": "9a6593f3-0961-4577-c0d8-253a7ab6645b"
      },
      "execution_count": 10,
      "outputs": [
        {
          "output_type": "stream",
          "name": "stdout",
          "text": [
            "IF age>=34.851817262359 THEN default=0 \n",
            "IF income>=69478.3987640403 THEN default=1 \n",
            "IF age>=34.7514377613552 THEN default=1 \n",
            "IF loan<=2495.13299137587 AND income>=20145.9885970689 THEN default=0 \n",
            "IF loan>=7498.630446855849 AND age>=20.6656169872731 THEN default=1 \n",
            "IF income<=31702.3342987522 AND age>=34.7410444347188 THEN default=0 \n",
            "IF income<=31702.3342987522 AND loan>=3682.8619314122707 THEN default=1 \n",
            "IF loan<=5659.509277874139 AND income>=46132.9140514135 THEN default=0 \n",
            "IF income>=60019.447135273396 AND income>=67385.40317630401 THEN default=0 \n",
            "IF age<=19.3824147786945 AND loan>=7084.263509070559 THEN default=1 \n",
            "IF income>=60019.447135273396 AND age>=22.364457368850697 THEN default=0 \n",
            "IF income<=24857.6948815025 AND age>=23.238169600255798 THEN default=1 \n",
            "IF loan<=4849.33378471958 AND income>=37162.8882177174 THEN default=0 \n",
            "IF age>=29.4230185477063 AND income>=45980.334344785704 THEN default=1 \n",
            "IF loan<=4285.38691174949 AND income>=33489.0398592688 THEN default=0 \n",
            "IF age>=32.553030352108195 THEN default=1 \n",
            "IF loan>=4285.38691174949 AND age>=32.270279629621704 THEN default=0 \n",
            "IF loan>=4285.38691174949 AND loan>=7218.9682240579195 THEN default=1 \n",
            "IF income>=53612.1312342584 AND income>=57787.565658800304 THEN default=0 \n",
            "IF loan>=4285.38691174949 AND loan>=6289.25607587104 THEN default=1 \n",
            "IF income>=53612.1312342584 THEN default=0 \n",
            "IF income>=33198.1282844208 AND age>=26.854012909811 THEN default=1 \n",
            "IF age>=26.809132419060898 THEN default=0 \n",
            "IF age>=24.6631496008486 THEN default=1 \n",
            "IF income>=33265.7905458473 AND age>=24.3714581453241 THEN default=0 \n",
            "IF age>=22.146262606140198 THEN default=1 \n",
            "IF loan>=3343.81635769923 AND loan>=5836.56338145928 THEN default=1 \n",
            "IF income>=34635.7447491027 AND age>=20.826679904013897 THEN default=1 \n",
            "IF age>=20.0963994744234 THEN default=0 \n",
            "IF income>=34635.7447491027 THEN default=1 \n",
            "IF income>=32197.6207010448 THEN default=0 \n",
            "IF income<=26218.4948474169 THEN default=1 \n",
            "IF TRUE THEN default=0 \n"
          ]
        }
      ]
    },
    {
      "cell_type": "code",
      "source": [
        "import Orange \n",
        "import numpy as np\n",
        "np.set_printoptions(threshold=np.inf)\n",
        "base = Orange.data.Table('credit_data_regras.csv')\n",
        "base_dividida = Orange.evaluation.testing.sample(base, n=0.25)\n",
        "base_treinamento = base_dividida[1]\n",
        "base_teste = base_dividida[0]\n",
        "cn2_learner = Orange.classification.rules.CN2Learner()\n",
        "classificador = cn2_learner(base_treinamento)\n",
        "resultado = Orange.evaluation.testing.TestOnTestData(base_treinamento, base_teste,[lambda testdata: classificador])\n",
        "print(Orange.evaluation.CA(resultado))\n",
        "print('Porcentagem de acerto :', round(100*Orange.evaluation.CA(resultado)[0],2),'%')"
      ],
      "metadata": {
        "id": "IHJoasWQXDCW",
        "colab": {
          "base_uri": "https://localhost:8080/"
        },
        "outputId": "491b897c-480e-4cac-9a97-cf6a89232af5"
      },
      "execution_count": 21,
      "outputs": [
        {
          "output_type": "stream",
          "name": "stdout",
          "text": [
            "[0.97]\n",
            "Porcentagem de acerto : 97.0 %\n"
          ]
        }
      ]
    }
  ]
}